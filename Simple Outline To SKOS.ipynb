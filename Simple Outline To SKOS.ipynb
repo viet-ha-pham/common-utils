{
 "cells": [
  {
   "cell_type": "code",
   "execution_count": 3,
   "id": "96dcf440",
   "metadata": {},
   "outputs": [
    {
     "name": "stdout",
     "output_type": "stream",
     "text": [
      "Requirement already satisfied: chiecthuyenngoaixa in d:\\anaconda3\\lib\\site-packages (0.1.2)\n"
     ]
    }
   ],
   "source": [
    "!pip install chiecthuyenngoaixa"
   ]
  },
  {
   "cell_type": "code",
   "execution_count": 5,
   "id": "e009e561",
   "metadata": {},
   "outputs": [
    {
     "data": {
      "text/plain": [
       "'Bon mua'"
      ]
     },
     "execution_count": 5,
     "metadata": {},
     "output_type": "execute_result"
    }
   ],
   "source": [
    "import ctnx\n",
    "ctnx.remove_diacritics(\"Bốn mùa\")"
   ]
  },
  {
   "cell_type": "code",
   "execution_count": 21,
   "id": "f2ceb845",
   "metadata": {},
   "outputs": [],
   "source": [
    "def uri_from_label(label, namespace):\n",
    "    return  URIRef(namespace + label.replace(\" \",\"_\"))"
   ]
  },
  {
   "cell_type": "code",
   "execution_count": 24,
   "id": "f741ea94",
   "metadata": {},
   "outputs": [
    {
     "data": {
      "text/plain": [
       "<Graph identifier=N2cb7c551f316410b94c684ac1c31b3ad (<class 'rdflib.graph.Graph'>)>"
      ]
     },
     "execution_count": 24,
     "metadata": {},
     "output_type": "execute_result"
    }
   ],
   "source": [
    "from rdflib.namespace import RDF, SKOS\n",
    "from rdflib import Graph, Literal, URIRef, Namespace\n",
    "\n",
    "# Định nghĩa đối tượng Graph của rdflib\n",
    "g = Graph()\n",
    "namespace = \"https://github.com/viet-ha-pham/data#\"\n",
    "\n",
    "vhd = Namespace(namespace)\n",
    "\n",
    "# Gán namespace vhd cho đối tượng Graph\n",
    "g.bind('vhd', vhd)\n",
    "\n",
    "\n",
    "# Mở tệp input với định dạng outline\n",
    "with open('E:/tab-indent.txt', 'r', encoding=\"utf-8\") as f:\n",
    "    # Đọc tệp input và tạo các đối tượng SKOS\n",
    "    last_indent = 0\n",
    "    last_concept = None\n",
    "    for line in f:\n",
    "        indent = len(line) - len(line.lstrip())\n",
    "        label = line.strip()\n",
    "        \n",
    "        if indent == 0:\n",
    "            last_concept = uri_from_label(label, namespace)\n",
    "            g.add((last_concept, RDF.type, SKOS.Concept))\n",
    "            g.add((last_concept, SKOS.prefLabel, Literal(label)))\n",
    "        elif indent > last_indent:\n",
    "            narrower_concept =  uri_from_label(label, namespace)\n",
    "            g.add((narrower_concept, RDF.type, SKOS.Concept))\n",
    "            g.add((narrower_concept, SKOS.prefLabel, Literal(label)))\n",
    "            g.add((last_concept, SKOS.narrower, narrower_concept))\n",
    "            last_concept = narrower_concept\n",
    "        elif indent == last_indent:\n",
    "            narrower_concept =  uri_from_label(label, namespace)\n",
    "            g.add((narrower_concept, RDF.type, SKOS.Concept))\n",
    "            g.add((narrower_concept, SKOS.prefLabel, Literal(label)))\n",
    "            g.add((last_concept, SKOS.narrower, narrower_concept))\n",
    "            last_concept = narrower_concept\n",
    "        else:\n",
    "            for i in range(last_indent - indent):\n",
    "                last_concept = g.value(last_concept, SKOS.broader)\n",
    "            narrower_concept = uri_from_label(label, namespace)\n",
    "            g.add((narrower_concept, RDF.type, SKOS.Concept))\n",
    "            g.add((narrower_concept, SKOS.prefLabel, Literal(label)))\n",
    "            if last_concept:\n",
    "                g.add((last_concept, SKOS.narrower, narrower_concept))\n",
    "            last_concept = narrower_concept\n",
    "        last_indent = indent\n",
    "\n",
    "# Lưu tệp output dưới dạng RDF/XML\n",
    "g.serialize(destination='E:/result.ttl', format='ttl')"
   ]
  },
  {
   "cell_type": "code",
   "execution_count": null,
   "id": "87121673",
   "metadata": {},
   "outputs": [],
   "source": []
  },
  {
   "cell_type": "code",
   "execution_count": null,
   "id": "8e32b267",
   "metadata": {},
   "outputs": [],
   "source": []
  },
  {
   "cell_type": "code",
   "execution_count": null,
   "id": "bb7c4328",
   "metadata": {},
   "outputs": [],
   "source": []
  }
 ],
 "metadata": {
  "kernelspec": {
   "display_name": "Python 3 (ipykernel)",
   "language": "python",
   "name": "python3"
  },
  "language_info": {
   "codemirror_mode": {
    "name": "ipython",
    "version": 3
   },
   "file_extension": ".py",
   "mimetype": "text/x-python",
   "name": "python",
   "nbconvert_exporter": "python",
   "pygments_lexer": "ipython3",
   "version": "3.9.12"
  }
 },
 "nbformat": 4,
 "nbformat_minor": 5
}
