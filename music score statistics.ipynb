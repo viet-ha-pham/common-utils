{
 "cells": [
  {
   "cell_type": "code",
   "execution_count": 1,
   "id": "544a8dc4",
   "metadata": {},
   "outputs": [
    {
     "name": "stdout",
     "output_type": "stream",
     "text": [
      "Requirement already satisfied: music21 in d:\\anaconda3\\lib\\site-packages (8.3.0)\n",
      "Requirement already satisfied: matplotlib in d:\\anaconda3\\lib\\site-packages (from music21) (3.5.1)\n",
      "Requirement already satisfied: webcolors>=1.5 in d:\\anaconda3\\lib\\site-packages (from music21) (1.13)\n",
      "Requirement already satisfied: requests in d:\\anaconda3\\lib\\site-packages (from music21) (2.27.1)\n",
      "Requirement already satisfied: chardet in d:\\anaconda3\\lib\\site-packages (from music21) (4.0.0)\n",
      "Requirement already satisfied: more-itertools in d:\\anaconda3\\lib\\site-packages (from music21) (9.1.0)\n",
      "Requirement already satisfied: numpy in d:\\anaconda3\\lib\\site-packages (from music21) (1.21.5)\n",
      "Requirement already satisfied: joblib in d:\\anaconda3\\lib\\site-packages (from music21) (1.1.0)\n",
      "Requirement already satisfied: jsonpickle in d:\\anaconda3\\lib\\site-packages (from music21) (3.0.1)\n",
      "Requirement already satisfied: packaging>=20.0 in d:\\anaconda3\\lib\\site-packages (from matplotlib->music21) (21.3)\n",
      "Requirement already satisfied: fonttools>=4.22.0 in d:\\anaconda3\\lib\\site-packages (from matplotlib->music21) (4.25.0)\n",
      "Requirement already satisfied: python-dateutil>=2.7 in d:\\anaconda3\\lib\\site-packages (from matplotlib->music21) (2.8.2)\n",
      "Requirement already satisfied: pillow>=6.2.0 in d:\\anaconda3\\lib\\site-packages (from matplotlib->music21) (9.0.1)\n",
      "Requirement already satisfied: pyparsing>=2.2.1 in d:\\anaconda3\\lib\\site-packages (from matplotlib->music21) (3.0.4)\n",
      "Requirement already satisfied: kiwisolver>=1.0.1 in d:\\anaconda3\\lib\\site-packages (from matplotlib->music21) (1.3.2)\n",
      "Requirement already satisfied: cycler>=0.10 in d:\\anaconda3\\lib\\site-packages (from matplotlib->music21) (0.11.0)\n",
      "Requirement already satisfied: six>=1.5 in d:\\anaconda3\\lib\\site-packages (from python-dateutil>=2.7->matplotlib->music21) (1.16.0)\n",
      "Requirement already satisfied: charset-normalizer~=2.0.0 in d:\\anaconda3\\lib\\site-packages (from requests->music21) (2.0.4)\n",
      "Requirement already satisfied: urllib3<1.27,>=1.21.1 in d:\\anaconda3\\lib\\site-packages (from requests->music21) (1.26.9)\n",
      "Requirement already satisfied: idna<4,>=2.5 in d:\\anaconda3\\lib\\site-packages (from requests->music21) (3.3)\n",
      "Requirement already satisfied: certifi>=2017.4.17 in d:\\anaconda3\\lib\\site-packages (from requests->music21) (2021.10.8)\n"
     ]
    }
   ],
   "source": [
    "!pip install music21"
   ]
  },
  {
   "cell_type": "code",
   "execution_count": 2,
   "id": "88f47c0f",
   "metadata": {},
   "outputs": [],
   "source": [
    "import music21\n",
    "\n",
    "def musicxml_stats(file_path):\n",
    "    # Load musicXML file\n",
    "    score = music21.converter.parse(file_path)\n",
    "\n",
    "    # Get number of measures\n",
    "    num_measures = len(score.parts[0].getElementsByClass('Measure'))\n",
    "\n",
    "    # Get time signature\n",
    "    time_sig = score.parts[0].getTimeSignatures()[0].ratioString\n",
    "\n",
    "    # Get number of notes and rests\n",
    "    num_notes = len(score.parts[0].flat.getElementsByClass('Note'))\n",
    "    num_rests = len(score.parts[0].flat.getElementsByClass('Rest'))\n",
    "\n",
    "    # Return statistics as a dictionary\n",
    "    stats = {\n",
    "        'num_measures': num_measures,\n",
    "        'time_signature': time_sig,\n",
    "        'num_notes': num_notes,\n",
    "        'num_rests': num_rests\n",
    "    }\n",
    "    return stats"
   ]
  },
  {
   "cell_type": "code",
   "execution_count": 3,
   "id": "80bbaa0b",
   "metadata": {},
   "outputs": [
    {
     "data": {
      "text/plain": [
       "{'num_measures': 16, 'time_signature': '2/4', 'num_notes': 28, 'num_rests': 0}"
      ]
     },
     "execution_count": 3,
     "metadata": {},
     "output_type": "execute_result"
    }
   ],
   "source": [
    "musicxml_stats(\"E:/Data/MusicXML/Piano Exercise 1 - Beginner.mxl\")"
   ]
  }
 ],
 "metadata": {
  "kernelspec": {
   "display_name": "Python 3 (ipykernel)",
   "language": "python",
   "name": "python3"
  },
  "language_info": {
   "codemirror_mode": {
    "name": "ipython",
    "version": 3
   },
   "file_extension": ".py",
   "mimetype": "text/x-python",
   "name": "python",
   "nbconvert_exporter": "python",
   "pygments_lexer": "ipython3",
   "version": "3.9.12"
  }
 },
 "nbformat": 4,
 "nbformat_minor": 5
}
