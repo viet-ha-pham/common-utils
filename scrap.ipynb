{
 "cells": [
  {
   "cell_type": "code",
   "execution_count": 42,
   "id": "d9f0e3e5",
   "metadata": {},
   "outputs": [],
   "source": [
    "import requests\n",
    "from bs4 import BeautifulSoup\n",
    "import time\n",
    "import random"
   ]
  },
  {
   "cell_type": "code",
   "execution_count": 31,
   "id": "008a4655",
   "metadata": {},
   "outputs": [],
   "source": [
    "def is_valid_href(href):\n",
    "    return href == \"https://vnexpress.net\" or (href is not None and href.startswith('https://vnexpress.net/') and href.endswith(\"html\") and href.count(\"/\") == 3)"
   ]
  },
  {
   "cell_type": "code",
   "execution_count": 68,
   "id": "55767b47",
   "metadata": {},
   "outputs": [],
   "source": [
    "def get_links(depth, previous_links, current_links, total_links):\n",
    "    print(len(total_links))\n",
    "    if depth == 0:\n",
    "        return set(total_links)\n",
    "    \n",
    "    for url in previous_links:\n",
    "        # Gửi yêu cầu HTTP đến trang chủ vnexpress.net\n",
    "        #time.sleep(random.choice([1,2,3]))\n",
    "        response = requests.get(url)\n",
    "        soup = BeautifulSoup(response.text, 'html.parser')\n",
    "        for link in soup.find_all('a'):\n",
    "            href = link.get('href')\n",
    "            if is_valid_href(href):\n",
    "                current_links.append(href)\n",
    "                total_links.append(href)\n",
    "    return get_links(depth - 1, current_links, [], total_links)"
   ]
  },
  {
   "cell_type": "code",
   "execution_count": 69,
   "id": "b8f73f59",
   "metadata": {},
   "outputs": [
    {
     "name": "stdout",
     "output_type": "stream",
     "text": [
      "0\n",
      "75\n",
      "209\n"
     ]
    },
    {
     "data": {
      "text/plain": [
       "{'https://vnexpress.net/ba-bo-con-tu-vong-duoi-ho-4620880.html',\n",
       " 'https://vnexpress.net/cac-doanh-nhan-chuyen-gia-mat-tich-khi-tham-quan-xac-titanic-4619740.html',\n",
       " 'https://vnexpress.net/chelsea-bi-to-lach-luat-cong-bang-tai-chinh-4620116.html',\n",
       " 'https://vnexpress.net/chelsea-dong-y-ban-havertz-cho-arsenal-4620239.html',\n",
       " 'https://vnexpress.net/cho-vay-tu-khoan-dong-quy-bhxh-se-giam-nhan-tro-cap-mot-lan-4620699.html',\n",
       " 'https://vnexpress.net/chu-tich-cong-ty-dang-kiem-o-phu-yen-bi-bat-4620904.html',\n",
       " 'https://vnexpress.net/chu-vu-khoan-4620592.html',\n",
       " 'https://vnexpress.net/cong-an-tp-hcm-vay-bat-oto-cho-gan-900-banh-ma-tuy-3901095.html',\n",
       " 'https://vnexpress.net/cong-dong-mang-dat-cua-cho-van-dau-musk-zuckerberg-4620682.html',\n",
       " 'https://vnexpress.net/cuc-dien-chien-truong-ukraine-sau-15-thang-giao-tranh-4529737.html',\n",
       " 'https://vnexpress.net/cuoc-vay-bat-nha-hao-tam-tuon-100-kg-ma-tuy-vao-sai-gon-4617175.html',\n",
       " 'https://vnexpress.net/dao-dien-titanic-canh-bao-tham-hoa-tau-titan-da-bi-lo-di-4620717.html',\n",
       " 'https://vnexpress.net/diem-chuan-lop-10-chuyen-cua-tp-hcm-cao-nhat-38-75-4620900.html',\n",
       " 'https://vnexpress.net/du-lich-viet-nam-tang-truong-nhanh-hon-thai-lan-nhat-ban-4619372.html',\n",
       " 'https://vnexpress.net/elon-musk-lai-gay-han-voi-mark-zuckerberg-4604000.html',\n",
       " 'https://vnexpress.net/elon-musk-thach-mark-zuckerberg-dau-vo-4620257.html',\n",
       " 'https://vnexpress.net/hang-loat-bac-si-nhan-vien-y-te-bi-bat-trong-vu-truc-loi-bao-hiem-4615842.html',\n",
       " 'https://vnexpress.net/hon-1-1-tan-ma-tuy-o-sai-gon-chung-duong-day-voi-cac-vu-o-mien-trung-3912266.html',\n",
       " 'https://vnexpress.net/kante-gia-nhap-nha-vo-dich-arab-saudi-4620137.html',\n",
       " 'https://vnexpress.net/ly-do-du-khach-han-ngay-cang-thich-den-viet-nam-4620364.html',\n",
       " 'https://vnexpress.net/mark-zuckerberg-khoe-kha-nang-dau-vo-4507731.html',\n",
       " 'https://vnexpress.net/mau-chot-tim-nguyen-nhan-tau-lan-titan-bi-ep-bep-4620731.html',\n",
       " 'https://vnexpress.net/nghi-lo-du-lieu-hoc-sinh-thi-lop-10-o-tp-hcm-4620690.html',\n",
       " 'https://vnexpress.net/nghi-van-arab-saudi-rot-tien-cuu-chelsea-4620404.html',\n",
       " 'https://vnexpress.net/nguoi-tai-4104507.html',\n",
       " 'https://vnexpress.net/nguyen-pho-thu-tuong-vu-khoan-tu-tran-4620045.html',\n",
       " 'https://vnexpress.net/nhieu-cong-nhan-bi-truy-to-vi-dung-giay-kham-chua-benh-gia-4620830.html',\n",
       " 'https://vnexpress.net/nhieu-duong-o-sai-gon-ngap-sau-sau-mua-lon-4620694.html',\n",
       " 'https://vnexpress.net/nhom-cam-ket-lam-gia-bang-dai-hoc-giong-100-bi-phat-hien-4620692.html',\n",
       " 'https://vnexpress.net/nhung-nguoi-tung-danh-cuoc-mang-song-de-len-tau-lan-titan-4620301.html',\n",
       " 'https://vnexpress.net/ong-zelensky-cao-buoc-nga-giau-thi-the-nan-nhan-vu-vo-dap-4620710.html',\n",
       " 'https://vnexpress.net/phuong-tay-nhat-tri-vien-tro-ukraine-66-ty-usd-tai-thiet-dat-nuoc-4620671.html',\n",
       " 'https://vnexpress.net/quang-hai-gia-nhap-cahn-la-trang-moi-trong-su-nghiep-4620907.html',\n",
       " 'https://vnexpress.net/quoc-hoi-chot-co-the-mua-sam-tap-trung-thuoc-hiem-4620815.html',\n",
       " 'https://vnexpress.net/quy-mo-chien-dich-tim-kiem-tau-titan-4620425.html',\n",
       " 'https://vnexpress.net/so-team-building-vi-tro-choi-phan-cam-4618286.html',\n",
       " 'https://vnexpress.net/suc-ep-hon-4-000-tan-khien-tau-lan-titan-bi-nghien-nat-4620728.html',\n",
       " 'https://vnexpress.net/suc-ep-khien-my-doi-y-ve-tiem-kich-f-16-cho-ukraine-4607504.html',\n",
       " 'https://vnexpress.net/tan-binh-ukraine-ke-36-gio-chien-dau-o-bakhmut-4609588.html',\n",
       " 'https://vnexpress.net/tau-lan-mat-tich-khi-cho-khach-tham-quan-xac-titanic-cau-tao-the-nao-4619513.html',\n",
       " 'https://vnexpress.net/tau-lan-titan-bi-ep-bep-5-nguoi-tren-khoang-thiet-mang-4620706.html',\n",
       " 'https://vnexpress.net/tau-lan-titan-bi-ep-nat-5-nguoi-tren-khoang-thiet-mang-4620706.html',\n",
       " 'https://vnexpress.net/tong-thong-han-quoc-an-tuong-voi-nguoi-ham-mo-kpop-o-ha-noi-4620669.html',\n",
       " 'https://vnexpress.net/ukraine-cao-buoc-nga-pha-dap-thuy-dien-kherson-4614160.html',\n",
       " 'https://vnexpress.net/vai-bac-giang-gia-780-000-dong-moi-kg-o-my-4620476.html',\n",
       " 'https://vnexpress.net/viet-nam-ban-21-phat-dai-bac-don-tong-thong-han-quoc-4620441.html',\n",
       " 'https://vnexpress.net/vu-tap-kich-belgorod-nguy-co-keo-cang-phong-tuyen-nga-4609843.html',\n",
       " 'https://vnexpress.net/xe-uu-tien-se-duoc-cap-ma-qr-trong-4-phut-4326972.html'}"
      ]
     },
     "execution_count": 69,
     "metadata": {},
     "output_type": "execute_result"
    }
   ],
   "source": [
    "links = get_links(2, [\"https://vnexpress.net\"], [],[])\n",
    "links"
   ]
  },
  {
   "cell_type": "code",
   "execution_count": null,
   "id": "9aca8e04",
   "metadata": {},
   "outputs": [
    {
     "name": "stdout",
     "output_type": "stream",
     "text": [
      "0\n",
      "75\n",
      "209\n",
      "739\n",
      "3317\n"
     ]
    }
   ],
   "source": [
    "links = get_links(10, [\"https://vnexpress.net\"], [],[])\n",
    "links"
   ]
  },
  {
   "cell_type": "code",
   "execution_count": null,
   "id": "9ee08465",
   "metadata": {},
   "outputs": [],
   "source": []
  }
 ],
 "metadata": {
  "kernelspec": {
   "display_name": "Python 3 (ipykernel)",
   "language": "python",
   "name": "python3"
  },
  "language_info": {
   "codemirror_mode": {
    "name": "ipython",
    "version": 3
   },
   "file_extension": ".py",
   "mimetype": "text/x-python",
   "name": "python",
   "nbconvert_exporter": "python",
   "pygments_lexer": "ipython3",
   "version": "3.9.12"
  }
 },
 "nbformat": 4,
 "nbformat_minor": 5
}
